{
 "cells": [
  {
   "cell_type": "markdown",
   "metadata": {},
   "source": [
    "Import libraries"
   ]
  },
  {
   "cell_type": "code",
   "execution_count": null,
   "metadata": {},
   "outputs": [],
   "source": [
    "import pandas as pd\n",
    "import numpy as np\n",
    "import pickle\n",
    "import datetime"
   ]
  },
  {
   "cell_type": "markdown",
   "metadata": {},
   "source": [
    "This function returns current date and time in this format \"MMDDYYHHMMSS\"."
   ]
  },
  {
   "cell_type": "code",
   "execution_count": null,
   "metadata": {},
   "outputs": [],
   "source": [
    "def getCurrentDateTime():\n",
    "    # Get the current date and time\n",
    "    current_datetime = datetime.datetime.now()\n",
    "\n",
    "    # Extract the individual components\n",
    "    month = current_datetime.strftime(\"%m\")  # MM\n",
    "    day = current_datetime.strftime(\"%d\")  # DD\n",
    "    year = current_datetime.strftime(\"%y\")  # YY\n",
    "    hour = current_datetime.strftime(\"%H\")  # HH\n",
    "    minute = current_datetime.strftime(\"%M\")  # MM\n",
    "    second = current_datetime.strftime(\"%S\")  # SS\n",
    "\n",
    "    # Concatenate the components to form the desired format\n",
    "    formatted_date_time = f\"{month}{day}{year}{hour}{minute}{second}\"\n",
    "\n",
    "    return formatted_date_time"
   ]
  },
  {
   "cell_type": "markdown",
   "metadata": {},
   "source": [
    "A function that read input data as file name to load in the datasource folder and returns a datatfame of the file.\n",
    "In this case the file type is in xlsx."
   ]
  },
  {
   "cell_type": "code",
   "execution_count": null,
   "metadata": {},
   "outputs": [],
   "source": [
    "def readFile():\n",
    "    file_found = False\n",
    "    while not file_found:\n",
    "\n",
    "        try:\n",
    "            file_name = input(\"Enter file name to load: \")\n",
    "            file = f\"datasource/{file_name}.xlsx\"\n",
    "            file_df = pd.read_excel(file)\n",
    "            print(f\"Successfully loaded file: {file_name}\")\n",
    "            return file_df\n",
    "        except:\n",
    "            print(f\"{file_name} not found.\")"
   ]
  },
  {
   "cell_type": "markdown",
   "metadata": {},
   "source": [
    "Read raw file excel data and assign the data frame data to raw variable."
   ]
  },
  {
   "cell_type": "code",
   "execution_count": null,
   "metadata": {},
   "outputs": [],
   "source": [
    "raw = readFile()"
   ]
  },
  {
   "cell_type": "markdown",
   "metadata": {},
   "source": [
    "Load pickle file data and store it to dnc_copy variable"
   ]
  },
  {
   "cell_type": "code",
   "execution_count": null,
   "metadata": {},
   "outputs": [],
   "source": [
    "# Open pickled file\n",
    "with open('session.pkl', 'rb') as f:\n",
    "    data = pickle.load(f)\n",
    "\n",
    "dnc_copy = data['DNCU']"
   ]
  },
  {
   "cell_type": "markdown",
   "metadata": {},
   "source": [
    "Fill NaN's with 0"
   ]
  },
  {
   "cell_type": "code",
   "execution_count": null,
   "metadata": {},
   "outputs": [],
   "source": [
    "dnc_copy[\"value\"] = dnc_copy[\"value\"].fillna(0)\n",
    "dnc_copy[\"value\"] = dnc_copy[\"value\"].astype(np.int64)"
   ]
  },
  {
   "cell_type": "markdown",
   "metadata": {},
   "source": [
    "Show infos for raw data source and dnc"
   ]
  },
  {
   "cell_type": "code",
   "execution_count": null,
   "metadata": {},
   "outputs": [],
   "source": [
    "raw.info()\n",
    "dnc_copy.info()"
   ]
  },
  {
   "cell_type": "markdown",
   "metadata": {},
   "source": [
    "Filters out data in UNIQUE column that is in dnc.\n",
    "Exports the result in excel file inside the output folder."
   ]
  },
  {
   "cell_type": "code",
   "execution_count": null,
   "metadata": {},
   "outputs": [],
   "source": [
    "in_dnc = raw[raw['Work Phone'].isin(dnc_copy['value'])]\n",
    "dnc_file_name = f\"DNC_{getCurrentDateTime()}\"\n",
    "dnc_file = f\"output/DNC/{dnc_file_name}.xlsx\"\n",
    "display(in_dnc)\n",
    "in_dnc.to_excel(dnc_file, index=False)"
   ]
  },
  {
   "cell_type": "markdown",
   "metadata": {},
   "source": [
    "Filters out data in UNIQUE column that is not in dnc.\n",
    "Exports the result in excel file inside the output folder."
   ]
  },
  {
   "cell_type": "code",
   "execution_count": null,
   "metadata": {},
   "outputs": [],
   "source": [
    "not_in_dnc = raw[raw['Work Phone'].isin(dnc_copy['value']) == False]\n",
    "not_dnc_file_name = f\"NOT_DNC_{getCurrentDateTime()}\"\n",
    "not_dnc_file = f\"output/NOT_DNC/{not_dnc_file_name}.xlsx\"\n",
    "display(not_in_dnc)\n",
    "not_in_dnc.to_excel(not_dnc_file, index=False)"
   ]
  },
  {
   "cell_type": "markdown",
   "metadata": {},
   "source": [
    "Get the summary of the data and display as a dataframe."
   ]
  },
  {
   "cell_type": "code",
   "execution_count": null,
   "metadata": {},
   "outputs": [],
   "source": [
    "total_leads = raw.shape[0]\n",
    "unique = raw['Work Phone'].nunique()\n",
    "duplicates = total_leads - unique\n",
    "dnc_count = in_dnc.shape[0]\n",
    "good_leads = not_in_dnc.shape[0]\n",
    "\n",
    "total_percent = \"100%\"\n",
    "unique_percent = f\"{round((unique/total_leads)*100)}%\"\n",
    "dup_percent = f\"{round((duplicates/total_leads)*100)}%\"\n",
    "dnc_percent = f\"{round((dnc_count/total_leads)*100)}%\"\n",
    "gl_percent = f\"{round((good_leads/total_leads)*100)}%\"\n",
    "\n",
    "# initialize list of lists \n",
    "summary_data = [['TOTAL LEADS', total_leads, total_percent], ['UNIQUE', unique, unique_percent], ['DUPLICATES', duplicates, dup_percent], ['DNC', dnc_count, dnc_percent], ['GOOD LEADS', good_leads, gl_percent]] \n",
    "# Create the pandas DataFrame \n",
    "summary_df = pd.DataFrame(summary_data, columns=['Description', 'Count', 'Percentage']) \n",
    "summary_df.style.hide(axis=\"index\")\n"
   ]
  }
 ],
 "metadata": {
  "kernelspec": {
   "display_name": "env",
   "language": "python",
   "name": "python3"
  },
  "language_info": {
   "codemirror_mode": {
    "name": "ipython",
    "version": 3
   },
   "file_extension": ".py",
   "mimetype": "text/x-python",
   "name": "python",
   "nbconvert_exporter": "python",
   "pygments_lexer": "ipython3",
   "version": "3.11.6"
  },
  "orig_nbformat": 4
 },
 "nbformat": 4,
 "nbformat_minor": 2
}
