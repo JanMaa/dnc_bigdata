{
 "cells": [
  {
   "cell_type": "markdown",
   "metadata": {},
   "source": [
    "Import libraries"
   ]
  },
  {
   "cell_type": "code",
   "execution_count": 15,
   "metadata": {},
   "outputs": [],
   "source": [
    "import pandas as pd\n",
    "import pickle\n",
    "import numpy as np\n",
    "import variables"
   ]
  },
  {
   "cell_type": "markdown",
   "metadata": {},
   "source": [
    "Load data sources."
   ]
  },
  {
   "cell_type": "code",
   "execution_count": 40,
   "metadata": {},
   "outputs": [],
   "source": [
    "# Step 1: Load data sources\\\n",
    "\n",
    "source1 = variables.DNC_SOURCE1\n",
    "source2 = variables.DNC_SOURCE2\n",
    "source3 = variables.DNC_SOURCE3\n",
    "source4 = variables.DNC_SOURCE4\n",
    "source5 = variables.DNC_SOURCE5\n",
    "\n",
    "data_source_1 = pd.read_excel(variables.SOURCE1, header=None)\n",
    "print(\"Loaded DNC\")\n",
    "data_source_2 = pd.read_excel(variables.SOURCE2, header=None)\n",
    "print(\"Loaded DNC2\")\n",
    "data_source_3 = pd.read_excel(variables.SOURCE3, header=None)\n",
    "print(\"Loaded DNC3\")\n",
    "data_source_4 = pd.read_excel(variables.SOURCE4, header=None)\n",
    "print(\"Loaded DNC4\")\n",
    "data_source_5 = pd.read_excel(variables.SOURCE5, header=None)\n",
    "print(\"Loaded DNC5\")\n"
   ]
  },
  {
   "cell_type": "code",
   "execution_count": null,
   "metadata": {},
   "outputs": [],
   "source": [
    "ds1Size = data_source_1.size\n",
    "ds2Size = data_source_2.size\n",
    "ds3Size = data_source_3.size\n",
    "ds4Size = data_source_4.size\n",
    "ds5Size = data_source_5.size\n",
    "\n",
    "print(\"data_source_1: \"+str(ds1Size))\n",
    "print(\"data_source_2: \"+str(ds2Size))\n",
    "print(\"data_source_3: \"+str(ds3Size))\n",
    "print(\"data_source_4: \"+str(ds4Size))\n",
    "print(\"data_source_5: \"+str(ds5Size))\n",
    "print(\"Total size: \"+str(ds1Size+ds2Size+ds3Size+ds4Size+ds5Size))\n"
   ]
  },
  {
   "cell_type": "markdown",
   "metadata": {},
   "source": [
    "Transform data sources rows into columns and concatenate data"
   ]
  },
  {
   "cell_type": "code",
   "execution_count": null,
   "metadata": {},
   "outputs": [],
   "source": [
    "ds1_melt = pd.melt(data_source_1)\n",
    "ds1_melt = ds1_melt.drop(['variable'], axis=1)\n",
    "\n",
    "ds2_melt = pd.melt(data_source_2)\n",
    "ds2_melt = ds2_melt.drop(['variable'], axis=1)\n",
    "\n",
    "ds3_melt = pd.melt(data_source_3)\n",
    "ds3_melt = ds3_melt.drop(['variable'], axis=1)\n",
    "\n",
    "ds4_melt = pd.melt(data_source_4)\n",
    "ds4_melt = ds4_melt.drop(['variable'], axis=1)\n",
    "\n",
    "ds5_melt = pd.melt(data_source_5)\n",
    "ds5_melt = ds5_melt.drop(['variable'], axis=1)\n",
    "\n",
    "ds1_ds2 = pd.concat([ds1_melt,ds2_melt], ignore_index=True)\n",
    "ds1_ds2_ds3 = pd.concat([ds1_ds2,ds3_melt], ignore_index=True)\n",
    "ds1_ds2_ds3_ds4 = pd.concat([ds1_ds2_ds3,ds4_melt], ignore_index=True)\n",
    "ds1_ds2_ds3_ds4_ds5 = pd.concat([ds1_ds2_ds3_ds4,ds5_melt], ignore_index=True)\n"
   ]
  },
  {
   "cell_type": "markdown",
   "metadata": {},
   "source": [
    "Check data sources number of rows"
   ]
  },
  {
   "cell_type": "code",
   "execution_count": null,
   "metadata": {},
   "outputs": [],
   "source": [
    "print((ds1_melt.shape[0]*4)+ds5_melt.shape[0])\n",
    "print(ds1_ds2_ds3_ds4_ds5.shape)"
   ]
  },
  {
   "cell_type": "markdown",
   "metadata": {},
   "source": [
    "Read raw file data"
   ]
  },
  {
   "cell_type": "code",
   "execution_count": 20,
   "metadata": {},
   "outputs": [],
   "source": [
    "file_name = variables.RAW_FILE\n",
    "raw = pd.read_excel(file_name)"
   ]
  },
  {
   "cell_type": "code",
   "execution_count": null,
   "metadata": {},
   "outputs": [],
   "source": [
    "# Pickle objects into a file\n",
    "# with open('session.pkl', 'wb') as f:\n",
    "#     pickle.dump({'DNCU': ds1_ds2_ds3_ds4_ds5}, f)"
   ]
  },
  {
   "cell_type": "markdown",
   "metadata": {},
   "source": [
    "Load pickle file data and store it to dnc_copy variable"
   ]
  },
  {
   "cell_type": "code",
   "execution_count": 3,
   "metadata": {},
   "outputs": [],
   "source": [
    "# Open pickled file\n",
    "with open('session.pkl', 'rb') as f:\n",
    "    data = pickle.load(f)\n",
    "\n",
    "dnc_copy = data['DNCU']"
   ]
  },
  {
   "cell_type": "markdown",
   "metadata": {},
   "source": [
    "Fill NaN's with 0"
   ]
  },
  {
   "cell_type": "code",
   "execution_count": 4,
   "metadata": {},
   "outputs": [],
   "source": [
    "dnc_copy[\"value\"] = dnc_copy[\"value\"].fillna(0)\n",
    "dnc_copy[\"value\"] = dnc_copy[\"value\"].astype(np.int64)"
   ]
  },
  {
   "cell_type": "markdown",
   "metadata": {},
   "source": [
    "Show infos for raw data source and dnc"
   ]
  },
  {
   "cell_type": "code",
   "execution_count": null,
   "metadata": {},
   "outputs": [],
   "source": [
    "raw.info()\n",
    "dnc_copy.info()"
   ]
  },
  {
   "cell_type": "markdown",
   "metadata": {},
   "source": [
    "This code filters out 0 values to display last row value"
   ]
  },
  {
   "cell_type": "code",
   "execution_count": null,
   "metadata": {},
   "outputs": [],
   "source": [
    "filtered_df = dnc_copy[dnc_copy['value'] != 0]\n",
    "filtered_df\n",
    "\n",
    "# 249542999 - last row index\n",
    "# 248956015 - last value index\n"
   ]
  },
  {
   "cell_type": "markdown",
   "metadata": {},
   "source": [
    "Filters out data in UNIQUE column that is in dnc."
   ]
  },
  {
   "cell_type": "code",
   "execution_count": null,
   "metadata": {},
   "outputs": [],
   "source": [
    "in_dnc = raw[raw['UNIQUE'].isin(dnc_copy['value'])]\n",
    "display(in_dnc)\n",
    "in_dnc.to_excel(variables.RAW_FILE, index=False)"
   ]
  },
  {
   "cell_type": "markdown",
   "metadata": {},
   "source": [
    "Filters out data in UNIQUE column that is not in dnc."
   ]
  },
  {
   "cell_type": "code",
   "execution_count": null,
   "metadata": {},
   "outputs": [],
   "source": [
    "not_in_dnc = raw[raw['UNIQUE'].isin(dnc_copy['value']) == False]\n",
    "display(not_in_dnc)\n",
    "not_in_dnc.to_excel(variables.RAW_FILE, index=False)"
   ]
  },
  {
   "cell_type": "markdown",
   "metadata": {},
   "source": [
    "This code compares the difference between the in_dnc dataframe and file1"
   ]
  },
  {
   "cell_type": "code",
   "execution_count": null,
   "metadata": {},
   "outputs": [],
   "source": [
    "file1 = variables.FILE1\n",
    "file1_df = pd.read_excel(file1)\n",
    "\n",
    "in_dnc_check = file1_df[file1_df['WorkPhone'].isin(in_dnc['WorkPhone'])]\n",
    "\n",
    "in_dnc_check"
   ]
  },
  {
   "cell_type": "markdown",
   "metadata": {},
   "source": [
    "This code exports dnc_copy dataframe to csv file"
   ]
  },
  {
   "cell_type": "code",
   "execution_count": null,
   "metadata": {},
   "outputs": [],
   "source": [
    "dnc_copy.to_csv(\"dnc_copy.csv\", index=False)"
   ]
  }
 ],
 "metadata": {
  "kernelspec": {
   "display_name": "env",
   "language": "python",
   "name": "python3"
  },
  "language_info": {
   "codemirror_mode": {
    "name": "ipython",
    "version": 3
   },
   "file_extension": ".py",
   "mimetype": "text/x-python",
   "name": "python",
   "nbconvert_exporter": "python",
   "pygments_lexer": "ipython3",
   "version": "3.11.5"
  },
  "orig_nbformat": 4
 },
 "nbformat": 4,
 "nbformat_minor": 2
}
